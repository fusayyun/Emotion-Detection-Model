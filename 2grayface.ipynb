{
 "cells": [
  {
   "cell_type": "markdown",
   "metadata": {},
   "source": [
    "# 影像處理"
   ]
  },
  {
   "cell_type": "markdown",
   "metadata": {},
   "source": [
    "處理某些影像顛倒問題：https://stackoverflow.com/questions/13872331/rotating-an-image-with-orientation-specified-in-exif-using-python-without-pil-in"
   ]
  },
  {
   "cell_type": "code",
   "execution_count": 17,
   "metadata": {
    "collapsed": true
   },
   "outputs": [],
   "source": [
    "def orientationCorrect(imgname):\n",
    "    try:\n",
    "        image=Image.open(imgname)\n",
    "        for orientation in ExifTags.TAGS.keys():\n",
    "            if ExifTags.TAGS[orientation]=='Orientation':\n",
    "                break\n",
    "        exif=dict(image._getexif().items())\n",
    "\n",
    "        if exif[orientation] == 3:\n",
    "            image=image.rotate(180, expand=True)\n",
    "        elif exif[orientation] == 6:\n",
    "            image=image.rotate(270, expand=True)\n",
    "        elif exif[orientation] == 8:\n",
    "            image=image.rotate(90, expand=True)\n",
    "        image.save(imgname)\n",
    "        image.close()\n",
    "    #遇到error跳過\n",
    "    except Exception: #(AttributeError, KeyError, IndexError):\n",
    "        # cases: image don't have getexif\n",
    "        pass"
   ]
  },
  {
   "cell_type": "code",
   "execution_count": 16,
   "metadata": {
    "collapsed": true
   },
   "outputs": [],
   "source": [
    "import cv2\n",
    "import os\n",
    "from PIL import Image, ExifTags\n",
    "origin_dir = \"./pred/\"\n",
    "save_dir = \"./data/pred/\"\n",
    "\n",
    "face_cascade = cv2.CascadeClassifier('./haarcascade_frontalface_default.xml')\n",
    "emotion_name = ['happy','shocked','bored', 'frustrated', 'happy', 'confused','neutral','focus']\n",
    "for e in emotion_name:\n",
    "    face_num = 1\n",
    "    for i in range(1,20):\n",
    "        imgname= origin_dir +e+\"/\"+ e + \" (\" +str(i)+\").JPG\" #路徑不能為中文\n",
    "        orientationCorrect(imgname)\n",
    "        img = cv2.imread(imgname,0)#, cv2.IMREAD_COLOR)\n",
    "        #img = cv2.cvtColor(img,cv2.COLOR_BGR2GRAY)\n",
    "        faces = face_cascade.detectMultiScale(img, scaleFactor = 1.3, minNeighbors = 5, minSize=(20,20))\n",
    "        for (x,y,w,h) in faces:\n",
    "            cv2.rectangle(img, (x-50,y-50), (x+w+50, y+h+50), (255,0,0),2)\n",
    "            filename = e+str(face_num)+\".jpg\"\n",
    "            image = Image.open(imgname).convert(\"L\")#抓圖處\n",
    "            imageCrop = image.crop((x-100,y-100,x+w+100,y+h+100))#裁切圖片\n",
    "            imageResize = imageCrop.resize((250,250),Image.ANTIALIAS)#高品質\n",
    "            imageResize.save(save_dir+e+'/'+filename)\n",
    "            face_num += 1"
   ]
  }
 ],
 "metadata": {
  "kernelspec": {
   "display_name": "Python 3",
   "language": "python",
   "name": "python3"
  },
  "language_info": {
   "codemirror_mode": {
    "name": "ipython",
    "version": 3
   },
   "file_extension": ".py",
   "mimetype": "text/x-python",
   "name": "python",
   "nbconvert_exporter": "python",
   "pygments_lexer": "ipython3",
   "version": "3.6.3"
  }
 },
 "nbformat": 4,
 "nbformat_minor": 2
}
