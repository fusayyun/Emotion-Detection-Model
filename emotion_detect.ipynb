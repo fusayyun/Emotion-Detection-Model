{
 "cells": [
  {
   "cell_type": "markdown",
   "metadata": {},
   "source": [
    "範例程式：https://gist.github.com/fchollet/0830affa1f7f19fd47b06d4cf89ed44d"
   ]
  },
  {
   "cell_type": "markdown",
   "metadata": {},
   "source": [
    "# 初始參數設定"
   ]
  },
  {
   "cell_type": "code",
   "execution_count": 43,
   "metadata": {
    "collapsed": true
   },
   "outputs": [],
   "source": [
    "img_width, img_height = 250, 250\n",
    "\n",
    "train_data_dir = 'data/train'\n",
    "validation_data_dir = 'data/test'\n",
    "pred_data_dir = 'data/pred'\n",
    "nb_train_samples = 1000\n",
    "nb_validation_samples = 250\n",
    "epochs = 15\n",
    "batch_size = 20"
   ]
  },
  {
   "cell_type": "markdown",
   "metadata": {},
   "source": [
    "# 建立CNN"
   ]
  },
  {
   "cell_type": "code",
   "execution_count": 44,
   "metadata": {
    "scrolled": false
   },
   "outputs": [
    {
     "name": "stdout",
     "output_type": "stream",
     "text": [
      "_________________________________________________________________\n",
      "Layer (type)                 Output Shape              Param #   \n",
      "=================================================================\n",
      "conv2d_7 (Conv2D)            (None, 250, 250, 32)      320       \n",
      "_________________________________________________________________\n",
      "activation_13 (Activation)   (None, 250, 250, 32)      0         \n",
      "_________________________________________________________________\n",
      "max_pooling2d_7 (MaxPooling2 (None, 125, 125, 32)      0         \n",
      "_________________________________________________________________\n",
      "conv2d_8 (Conv2D)            (None, 123, 123, 32)      9248      \n",
      "_________________________________________________________________\n",
      "activation_14 (Activation)   (None, 123, 123, 32)      0         \n",
      "_________________________________________________________________\n",
      "max_pooling2d_8 (MaxPooling2 (None, 61, 61, 32)        0         \n",
      "_________________________________________________________________\n",
      "conv2d_9 (Conv2D)            (None, 59, 59, 64)        18496     \n",
      "_________________________________________________________________\n",
      "activation_15 (Activation)   (None, 59, 59, 64)        0         \n",
      "_________________________________________________________________\n",
      "max_pooling2d_9 (MaxPooling2 (None, 29, 29, 64)        0         \n",
      "_________________________________________________________________\n",
      "flatten_3 (Flatten)          (None, 53824)             0         \n",
      "_________________________________________________________________\n",
      "dense_7 (Dense)              (None, 128)               6889600   \n",
      "_________________________________________________________________\n",
      "activation_16 (Activation)   (None, 128)               0         \n",
      "_________________________________________________________________\n",
      "dropout_5 (Dropout)          (None, 128)               0         \n",
      "_________________________________________________________________\n",
      "dense_8 (Dense)              (None, 64)                8256      \n",
      "_________________________________________________________________\n",
      "activation_17 (Activation)   (None, 64)                0         \n",
      "_________________________________________________________________\n",
      "dropout_6 (Dropout)          (None, 64)                0         \n",
      "_________________________________________________________________\n",
      "dense_9 (Dense)              (None, 7)                 455       \n",
      "_________________________________________________________________\n",
      "activation_18 (Activation)   (None, 7)                 0         \n",
      "=================================================================\n",
      "Total params: 6,926,375\n",
      "Trainable params: 6,926,375\n",
      "Non-trainable params: 0\n",
      "_________________________________________________________________\n"
     ]
    }
   ],
   "source": [
    "from keras.models import Sequential\n",
    "from keras.layers import Conv2D, MaxPooling2D\n",
    "from keras.layers import Activation, Dropout, Flatten, Dense\n",
    "\n",
    "model = Sequential()\n",
    "model.add(Conv2D(32, (3, 3), input_shape=(250, 250, 1),padding='same'))\n",
    "model.add(Activation('relu'))\n",
    "model.add(MaxPooling2D(pool_size=(2, 2)))\n",
    "\n",
    "model.add(Conv2D(32, (3, 3)))\n",
    "model.add(Activation('relu'))\n",
    "model.add(MaxPooling2D(pool_size=(2, 2)))\n",
    "\n",
    "model.add(Conv2D(64, (3, 3)))\n",
    "model.add(Activation('relu'))\n",
    "model.add(MaxPooling2D(pool_size=(2, 2)))\n",
    "\n",
    "# the model so far outputs 3D feature maps (height, width, features)\n",
    "\n",
    "model.add(Flatten())  # this converts our 3D feature maps to 1D feature vectors\n",
    "model.add(Dense(128))\n",
    "model.add(Activation('relu'))\n",
    "model.add(Dropout(0.25))\n",
    "model.add(Dense(64))\n",
    "model.add(Activation('relu'))\n",
    "model.add(Dropout(0.25))\n",
    "model.add(Dense(7))\n",
    "model.add(Activation('softmax'))\n",
    "\n",
    "model.compile(loss='categorical_crossentropy',\n",
    "              optimizer='rmsprop',\n",
    "              metrics=['accuracy'])\n",
    "model.summary()"
   ]
  },
  {
   "cell_type": "markdown",
   "metadata": {},
   "source": [
    "# 載入資料以及資料擴增"
   ]
  },
  {
   "cell_type": "markdown",
   "metadata": {},
   "source": [
    "介紹：https://chtseng.wordpress.com/2017/11/11/data-augmentation-%E8%B3%87%E6%96%99%E5%A2%9E%E5%BC%B7/"
   ]
  },
  {
   "cell_type": "code",
   "execution_count": 45,
   "metadata": {},
   "outputs": [
    {
     "name": "stdout",
     "output_type": "stream",
     "text": [
      "Found 766 images belonging to 7 classes.\n",
      "Found 210 images belonging to 7 classes.\n"
     ]
    }
   ],
   "source": [
    "from keras.preprocessing.image import ImageDataGenerator\n",
    "from skimage import exposure\n",
    "\n",
    "datagen = ImageDataGenerator(rescale=1. / 255,\n",
    "                             fill_mode='nearest')\n",
    "# this is the augmentation configuration we will use for training\n",
    "train_datagen = datagen\n",
    "# this is the augmentation configuration we will use for testing:\n",
    "# only rescaling\n",
    "test_datagen = datagen\n",
    "# this is a generator that will read pictures found in\n",
    "# subfolers of 'data/train', and indefinitely generate\n",
    "# batches of augmented image data\n",
    "#https://keras.io/preprocessing/image/#flow_from_directory\n",
    "train_generator = train_datagen.flow_from_directory(train_data_dir,  # this is the target directory\n",
    "                                                    color_mode='grayscale',\n",
    "                                                    target_size=(img_width, img_height),  # all images will be resized\n",
    "                                                    batch_size=batch_size,\n",
    "                                                    class_mode='categorical')  # since we use binary_crossentropy loss, we need binary labels\n",
    "\n",
    "\n",
    "validation_generator = test_datagen.flow_from_directory(validation_data_dir,\n",
    "                                                        color_mode='grayscale',\n",
    "                                                        target_size=(img_width, img_height),\n",
    "                                                        batch_size=batch_size,\n",
    "                                                        class_mode='categorical')"
   ]
  },
  {
   "cell_type": "markdown",
   "metadata": {},
   "source": [
    "# 開始訓練"
   ]
  },
  {
   "cell_type": "code",
   "execution_count": 46,
   "metadata": {
    "scrolled": false
   },
   "outputs": [
    {
     "name": "stdout",
     "output_type": "stream",
     "text": [
      "Epoch 1/15\n",
      "50/50 [==============================] - 69s 1s/step - loss: 1.8245 - acc: 0.3059 - val_loss: 1.2604 - val_acc: 0.6043\n",
      "Epoch 2/15\n",
      "50/50 [==============================] - 70s 1s/step - loss: 0.9372 - acc: 0.6813 - val_loss: 0.6998 - val_acc: 0.7870\n",
      "Epoch 3/15\n",
      "50/50 [==============================] - 70s 1s/step - loss: 0.5148 - acc: 0.8310 - val_loss: 0.5790 - val_acc: 0.8261\n",
      "Epoch 4/15\n",
      "50/50 [==============================] - 64s 1s/step - loss: 0.2841 - acc: 0.9054 - val_loss: 0.6732 - val_acc: 0.8217\n",
      "Epoch 5/15\n",
      "50/50 [==============================] - 67s 1s/step - loss: 0.1992 - acc: 0.9250 - val_loss: 0.7140 - val_acc: 0.8478\n",
      "Epoch 6/15\n",
      "50/50 [==============================] - 67s 1s/step - loss: 0.1482 - acc: 0.9510 - val_loss: 0.6190 - val_acc: 0.8696\n",
      "Epoch 7/15\n",
      "50/50 [==============================] - 69s 1s/step - loss: 0.1346 - acc: 0.9610 - val_loss: 0.8688 - val_acc: 0.8739\n",
      "Epoch 8/15\n",
      "50/50 [==============================] - 66s 1s/step - loss: 0.0589 - acc: 0.9850 - val_loss: 0.6916 - val_acc: 0.8913\n",
      "Epoch 9/15\n",
      "50/50 [==============================] - 70s 1s/step - loss: 0.0603 - acc: 0.9770 - val_loss: 0.9470 - val_acc: 0.8826\n",
      "Epoch 10/15\n",
      "50/50 [==============================] - 68s 1s/step - loss: 0.0683 - acc: 0.9780 - val_loss: 0.8555 - val_acc: 0.8478\n",
      "Epoch 11/15\n",
      "50/50 [==============================] - 61s 1s/step - loss: 0.0493 - acc: 0.9870 - val_loss: 0.7374 - val_acc: 0.8773\n",
      "Epoch 12/15\n",
      "50/50 [==============================] - 72s 1s/step - loss: 0.0422 - acc: 0.9880 - val_loss: 0.9974 - val_acc: 0.8913\n",
      "Epoch 13/15\n",
      "50/50 [==============================] - 74s 1s/step - loss: 0.0233 - acc: 0.9930 - val_loss: 0.9709 - val_acc: 0.8739\n",
      "Epoch 14/15\n",
      "50/50 [==============================] - 68s 1s/step - loss: 0.0314 - acc: 0.9900 - val_loss: 1.0567 - val_acc: 0.8957\n",
      "Epoch 15/15\n",
      "50/50 [==============================] - 65s 1s/step - loss: 0.0208 - acc: 0.9900 - val_loss: 1.2797 - val_acc: 0.8652\n"
     ]
    }
   ],
   "source": [
    "import PIL\n",
    "history = model.fit_generator(train_generator,\n",
    "                              steps_per_epoch=nb_train_samples//batch_size,#程式會自動根據step_per_epoch*batch_size來生成圖片\n",
    "                              epochs=epochs,\n",
    "                              validation_data=validation_generator,\n",
    "                              validation_steps=nb_validation_samples // batch_size)\n",
    "model.save_weights('first_try.h5')  # always save your weights after training or during training"
   ]
  },
  {
   "cell_type": "markdown",
   "metadata": {
    "collapsed": true
   },
   "source": [
    "模型載入教學\n",
    "https://ithelp.ithome.com.tw/articles/10191627"
   ]
  },
  {
   "cell_type": "markdown",
   "metadata": {},
   "source": [
    "fit_genetator講解：\n",
    "https://medium.com/difference-engine-ai/keras-a-thing-you-should-know-about-keras-if-you-plan-to-train-a-deep-learning-model-on-a-large-fdd63ce66bd2\n",
    "https://medium.com/@vijayabhaskar96/tutorial-image-classification-with-keras-flow-from-directory-and-generators-95f75ebe5720"
   ]
  },
  {
   "cell_type": "markdown",
   "metadata": {},
   "source": [
    "類似辨識：https://blog.csdn.net/sinat_26917383/article/details/72861152"
   ]
  },
  {
   "cell_type": "markdown",
   "metadata": {},
   "source": [
    "# 畫圖"
   ]
  },
  {
   "cell_type": "code",
   "execution_count": 47,
   "metadata": {
    "collapsed": true
   },
   "outputs": [],
   "source": [
    "import matplotlib.pyplot as plt\n",
    "def show_train_history(train_history, train, validation):\n",
    "    plt.plot(train_history.history[train])\n",
    "    plt.plot(train_history.history[validation])\n",
    "    plt.title('Train history')\n",
    "    plt.ylabel(train)\n",
    "    plt.xlabel('Epoch')\n",
    "    legendLoc = 'lower right' if(train=='acc') else 'upper right'\n",
    "    plt.legend(['train', 'validation'], loc=legendLoc)\n",
    "    plt.show()"
   ]
  },
  {
   "cell_type": "code",
   "execution_count": 48,
   "metadata": {},
   "outputs": [
    {
     "data": {
      "image/png": "[encoded data removed]",
      "text/plain": [
       "<Figure size 432x288 with 1 Axes>"
      ]
     },
     "metadata": {
      "needs_background": "light"
     },
     "output_type": "display_data"
    }
   ],
   "source": [
    "show_train_history(history, 'acc', 'val_acc')"
   ]
  },
  {
   "cell_type": "code",
   "execution_count": 49,
   "metadata": {},
   "outputs": [
    {
     "data": {
      "image/png": "[encoded data removed]",
      "text/plain": [
       "<Figure size 432x288 with 1 Axes>"
      ]
     },
     "metadata": {
      "needs_background": "light"
     },
     "output_type": "display_data"
    }
   ],
   "source": [
    "show_train_history(history, 'loss', 'val_loss')"
   ]
  },
  {
   "cell_type": "markdown",
   "metadata": {},
   "source": [
    "# 預測"
   ]
  },
  {
   "cell_type": "markdown",
   "metadata": {},
   "source": [
    "https://medium.com/@vijayabhaskar96/tutorial-image-classification-with-keras-flow-from-directory-and-generators-95f75ebe5720"
   ]
  },
  {
   "cell_type": "code",
   "execution_count": 50,
   "metadata": {},
   "outputs": [
    {
     "name": "stdout",
     "output_type": "stream",
     "text": [
      "Found 140 images belonging to 7 classes.\n"
     ]
    }
   ],
   "source": [
    "pred_generator = test_datagen.flow_from_directory(\n",
    "    directory=pred_data_dir,\n",
    "    color_mode='grayscale',\n",
    "    target_size=(img_width, img_height),  # all images will be resized\n",
    "    batch_size=1,\n",
    "    class_mode=None,\n",
    "    shuffle=False,\n",
    "    seed=42\n",
    ")"
   ]
  },
  {
   "cell_type": "code",
   "execution_count": 51,
   "metadata": {},
   "outputs": [
    {
     "name": "stdout",
     "output_type": "stream",
     "text": [
      "140/140 [==============================] - 3s 24ms/step\n"
     ]
    }
   ],
   "source": [
    "#一定要reset，不然他output順序會很奇怪(?)\n",
    "pred_generator.reset()\n",
    "pred=model.predict_generator(pred_generator,verbose=1, steps=len(pred_generator))"
   ]
  },
  {
   "cell_type": "code",
   "execution_count": 52,
   "metadata": {
    "collapsed": true
   },
   "outputs": [],
   "source": [
    "import numpy as np\n",
    "predicted_class_indices=np.argmax(pred,axis=1)"
   ]
  },
  {
   "cell_type": "code",
   "execution_count": 53,
   "metadata": {
    "collapsed": true
   },
   "outputs": [],
   "source": [
    "labels = (train_generator.class_indices)\n",
    "labels = dict((v,k) for k,v in labels.items())\n",
    "predictions = [labels[k] for k in predicted_class_indices]"
   ]
  },
  {
   "cell_type": "code",
   "execution_count": 54,
   "metadata": {
    "collapsed": true
   },
   "outputs": [],
   "source": [
    "from sklearn.metrics import confusion_matrix\n",
    "filenames=pred_generator.filenames\n",
    "true_class_indices=pred_generator.classes\n",
    "true_class = [labels[k] for k in true_class_indices]"
   ]
  },
  {
   "cell_type": "code",
   "execution_count": 55,
   "metadata": {},
   "outputs": [
    {
     "data": {
      "text/html": [
       "<div>\n",
       "<style scoped>\n",
       "    .dataframe tbody tr th:only-of-type {\n",
       "        vertical-align: middle;\n",
       "    }\n",
       "\n",
       "    .dataframe tbody tr th {\n",
       "        vertical-align: top;\n",
       "    }\n",
       "\n",
       "    .dataframe thead th {\n",
       "        text-align: right;\n",
       "    }\n",
       "</style>\n",
       "<table border=\"1\" class=\"dataframe\">\n",
       "  <thead>\n",
       "    <tr style=\"text-align: right;\">\n",
       "      <th></th>\n",
       "      <th>Filename</th>\n",
       "      <th>Predictions</th>\n",
       "    </tr>\n",
       "  </thead>\n",
       "  <tbody>\n",
       "    <tr>\n",
       "      <th>0</th>\n",
       "      <td>bored</td>\n",
       "      <td>confused</td>\n",
       "    </tr>\n",
       "    <tr>\n",
       "      <th>1</th>\n",
       "      <td>bored</td>\n",
       "      <td>confused</td>\n",
       "    </tr>\n",
       "    <tr>\n",
       "      <th>2</th>\n",
       "      <td>bored</td>\n",
       "      <td>shocked</td>\n",
       "    </tr>\n",
       "    <tr>\n",
       "      <th>3</th>\n",
       "      <td>bored</td>\n",
       "      <td>bored</td>\n",
       "    </tr>\n",
       "    <tr>\n",
       "      <th>4</th>\n",
       "      <td>bored</td>\n",
       "      <td>shocked</td>\n",
       "    </tr>\n",
       "    <tr>\n",
       "      <th>5</th>\n",
       "      <td>bored</td>\n",
       "      <td>bored</td>\n",
       "    </tr>\n",
       "    <tr>\n",
       "      <th>6</th>\n",
       "      <td>bored</td>\n",
       "      <td>bored</td>\n",
       "    </tr>\n",
       "    <tr>\n",
       "      <th>7</th>\n",
       "      <td>bored</td>\n",
       "      <td>shocked</td>\n",
       "    </tr>\n",
       "    <tr>\n",
       "      <th>8</th>\n",
       "      <td>bored</td>\n",
       "      <td>confused</td>\n",
       "    </tr>\n",
       "    <tr>\n",
       "      <th>9</th>\n",
       "      <td>bored</td>\n",
       "      <td>confused</td>\n",
       "    </tr>\n",
       "    <tr>\n",
       "      <th>10</th>\n",
       "      <td>bored</td>\n",
       "      <td>bored</td>\n",
       "    </tr>\n",
       "    <tr>\n",
       "      <th>11</th>\n",
       "      <td>bored</td>\n",
       "      <td>bored</td>\n",
       "    </tr>\n",
       "    <tr>\n",
       "      <th>12</th>\n",
       "      <td>bored</td>\n",
       "      <td>bored</td>\n",
       "    </tr>\n",
       "    <tr>\n",
       "      <th>13</th>\n",
       "      <td>bored</td>\n",
       "      <td>bored</td>\n",
       "    </tr>\n",
       "    <tr>\n",
       "      <th>14</th>\n",
       "      <td>confused</td>\n",
       "      <td>confused</td>\n",
       "    </tr>\n",
       "    <tr>\n",
       "      <th>15</th>\n",
       "      <td>confused</td>\n",
       "      <td>confused</td>\n",
       "    </tr>\n",
       "    <tr>\n",
       "      <th>16</th>\n",
       "      <td>confused</td>\n",
       "      <td>confused</td>\n",
       "    </tr>\n",
       "    <tr>\n",
       "      <th>17</th>\n",
       "      <td>confused</td>\n",
       "      <td>confused</td>\n",
       "    </tr>\n",
       "    <tr>\n",
       "      <th>18</th>\n",
       "      <td>confused</td>\n",
       "      <td>confused</td>\n",
       "    </tr>\n",
       "    <tr>\n",
       "      <th>19</th>\n",
       "      <td>confused</td>\n",
       "      <td>focus</td>\n",
       "    </tr>\n",
       "    <tr>\n",
       "      <th>20</th>\n",
       "      <td>confused</td>\n",
       "      <td>confused</td>\n",
       "    </tr>\n",
       "    <tr>\n",
       "      <th>21</th>\n",
       "      <td>confused</td>\n",
       "      <td>confused</td>\n",
       "    </tr>\n",
       "    <tr>\n",
       "      <th>22</th>\n",
       "      <td>confused</td>\n",
       "      <td>confused</td>\n",
       "    </tr>\n",
       "    <tr>\n",
       "      <th>23</th>\n",
       "      <td>confused</td>\n",
       "      <td>confused</td>\n",
       "    </tr>\n",
       "    <tr>\n",
       "      <th>24</th>\n",
       "      <td>confused</td>\n",
       "      <td>confused</td>\n",
       "    </tr>\n",
       "    <tr>\n",
       "      <th>25</th>\n",
       "      <td>confused</td>\n",
       "      <td>confused</td>\n",
       "    </tr>\n",
       "    <tr>\n",
       "      <th>26</th>\n",
       "      <td>confused</td>\n",
       "      <td>confused</td>\n",
       "    </tr>\n",
       "    <tr>\n",
       "      <th>27</th>\n",
       "      <td>confused</td>\n",
       "      <td>confused</td>\n",
       "    </tr>\n",
       "    <tr>\n",
       "      <th>28</th>\n",
       "      <td>confused</td>\n",
       "      <td>confused</td>\n",
       "    </tr>\n",
       "    <tr>\n",
       "      <th>29</th>\n",
       "      <td>confused</td>\n",
       "      <td>confused</td>\n",
       "    </tr>\n",
       "    <tr>\n",
       "      <th>...</th>\n",
       "      <td>...</td>\n",
       "      <td>...</td>\n",
       "    </tr>\n",
       "    <tr>\n",
       "      <th>110</th>\n",
       "      <td>neutral</td>\n",
       "      <td>bored</td>\n",
       "    </tr>\n",
       "    <tr>\n",
       "      <th>111</th>\n",
       "      <td>neutral</td>\n",
       "      <td>neutral</td>\n",
       "    </tr>\n",
       "    <tr>\n",
       "      <th>112</th>\n",
       "      <td>neutral</td>\n",
       "      <td>neutral</td>\n",
       "    </tr>\n",
       "    <tr>\n",
       "      <th>113</th>\n",
       "      <td>neutral</td>\n",
       "      <td>neutral</td>\n",
       "    </tr>\n",
       "    <tr>\n",
       "      <th>114</th>\n",
       "      <td>neutral</td>\n",
       "      <td>neutral</td>\n",
       "    </tr>\n",
       "    <tr>\n",
       "      <th>115</th>\n",
       "      <td>neutral</td>\n",
       "      <td>neutral</td>\n",
       "    </tr>\n",
       "    <tr>\n",
       "      <th>116</th>\n",
       "      <td>neutral</td>\n",
       "      <td>neutral</td>\n",
       "    </tr>\n",
       "    <tr>\n",
       "      <th>117</th>\n",
       "      <td>neutral</td>\n",
       "      <td>confused</td>\n",
       "    </tr>\n",
       "    <tr>\n",
       "      <th>118</th>\n",
       "      <td>neutral</td>\n",
       "      <td>neutral</td>\n",
       "    </tr>\n",
       "    <tr>\n",
       "      <th>119</th>\n",
       "      <td>shocked</td>\n",
       "      <td>happy</td>\n",
       "    </tr>\n",
       "    <tr>\n",
       "      <th>120</th>\n",
       "      <td>shocked</td>\n",
       "      <td>shocked</td>\n",
       "    </tr>\n",
       "    <tr>\n",
       "      <th>121</th>\n",
       "      <td>shocked</td>\n",
       "      <td>shocked</td>\n",
       "    </tr>\n",
       "    <tr>\n",
       "      <th>122</th>\n",
       "      <td>shocked</td>\n",
       "      <td>shocked</td>\n",
       "    </tr>\n",
       "    <tr>\n",
       "      <th>123</th>\n",
       "      <td>shocked</td>\n",
       "      <td>shocked</td>\n",
       "    </tr>\n",
       "    <tr>\n",
       "      <th>124</th>\n",
       "      <td>shocked</td>\n",
       "      <td>bored</td>\n",
       "    </tr>\n",
       "    <tr>\n",
       "      <th>125</th>\n",
       "      <td>shocked</td>\n",
       "      <td>bored</td>\n",
       "    </tr>\n",
       "    <tr>\n",
       "      <th>126</th>\n",
       "      <td>shocked</td>\n",
       "      <td>bored</td>\n",
       "    </tr>\n",
       "    <tr>\n",
       "      <th>127</th>\n",
       "      <td>shocked</td>\n",
       "      <td>confused</td>\n",
       "    </tr>\n",
       "    <tr>\n",
       "      <th>128</th>\n",
       "      <td>shocked</td>\n",
       "      <td>shocked</td>\n",
       "    </tr>\n",
       "    <tr>\n",
       "      <th>129</th>\n",
       "      <td>shocked</td>\n",
       "      <td>confused</td>\n",
       "    </tr>\n",
       "    <tr>\n",
       "      <th>130</th>\n",
       "      <td>shocked</td>\n",
       "      <td>shocked</td>\n",
       "    </tr>\n",
       "    <tr>\n",
       "      <th>131</th>\n",
       "      <td>shocked</td>\n",
       "      <td>shocked</td>\n",
       "    </tr>\n",
       "    <tr>\n",
       "      <th>132</th>\n",
       "      <td>shocked</td>\n",
       "      <td>bored</td>\n",
       "    </tr>\n",
       "    <tr>\n",
       "      <th>133</th>\n",
       "      <td>shocked</td>\n",
       "      <td>bored</td>\n",
       "    </tr>\n",
       "    <tr>\n",
       "      <th>134</th>\n",
       "      <td>shocked</td>\n",
       "      <td>shocked</td>\n",
       "    </tr>\n",
       "    <tr>\n",
       "      <th>135</th>\n",
       "      <td>shocked</td>\n",
       "      <td>shocked</td>\n",
       "    </tr>\n",
       "    <tr>\n",
       "      <th>136</th>\n",
       "      <td>shocked</td>\n",
       "      <td>shocked</td>\n",
       "    </tr>\n",
       "    <tr>\n",
       "      <th>137</th>\n",
       "      <td>shocked</td>\n",
       "      <td>confused</td>\n",
       "    </tr>\n",
       "    <tr>\n",
       "      <th>138</th>\n",
       "      <td>shocked</td>\n",
       "      <td>shocked</td>\n",
       "    </tr>\n",
       "    <tr>\n",
       "      <th>139</th>\n",
       "      <td>shocked</td>\n",
       "      <td>shocked</td>\n",
       "    </tr>\n",
       "  </tbody>\n",
       "</table>\n",
       "<p>140 rows × 2 columns</p>\n",
       "</div>"
      ],
      "text/plain": [
       "     Filename Predictions\n",
       "0       bored    confused\n",
       "1       bored    confused\n",
       "2       bored     shocked\n",
       "3       bored       bored\n",
       "4       bored     shocked\n",
       "5       bored       bored\n",
       "6       bored       bored\n",
       "7       bored     shocked\n",
       "8       bored    confused\n",
       "9       bored    confused\n",
       "10      bored       bored\n",
       "11      bored       bored\n",
       "12      bored       bored\n",
       "13      bored       bored\n",
       "14   confused    confused\n",
       "15   confused    confused\n",
       "16   confused    confused\n",
       "17   confused    confused\n",
       "18   confused    confused\n",
       "19   confused       focus\n",
       "20   confused    confused\n",
       "21   confused    confused\n",
       "22   confused    confused\n",
       "23   confused    confused\n",
       "24   confused    confused\n",
       "25   confused    confused\n",
       "26   confused    confused\n",
       "27   confused    confused\n",
       "28   confused    confused\n",
       "29   confused    confused\n",
       "..        ...         ...\n",
       "110   neutral       bored\n",
       "111   neutral     neutral\n",
       "112   neutral     neutral\n",
       "113   neutral     neutral\n",
       "114   neutral     neutral\n",
       "115   neutral     neutral\n",
       "116   neutral     neutral\n",
       "117   neutral    confused\n",
       "118   neutral     neutral\n",
       "119   shocked       happy\n",
       "120   shocked     shocked\n",
       "121   shocked     shocked\n",
       "122   shocked     shocked\n",
       "123   shocked     shocked\n",
       "124   shocked       bored\n",
       "125   shocked       bored\n",
       "126   shocked       bored\n",
       "127   shocked    confused\n",
       "128   shocked     shocked\n",
       "129   shocked    confused\n",
       "130   shocked     shocked\n",
       "131   shocked     shocked\n",
       "132   shocked       bored\n",
       "133   shocked       bored\n",
       "134   shocked     shocked\n",
       "135   shocked     shocked\n",
       "136   shocked     shocked\n",
       "137   shocked    confused\n",
       "138   shocked     shocked\n",
       "139   shocked     shocked\n",
       "\n",
       "[140 rows x 2 columns]"
      ]
     },
     "execution_count": 55,
     "metadata": {},
     "output_type": "execute_result"
    }
   ],
   "source": [
    "import pandas as pd\n",
    "results=pd.DataFrame({\"Filename\":true_class,\n",
    "                      \"Predictions\":predictions})\n",
    "results"
   ]
  },
  {
   "cell_type": "code",
   "execution_count": 56,
   "metadata": {
    "collapsed": true
   },
   "outputs": [],
   "source": [
    "#印出CSV\n",
    "#results.to_csv(\"results.csv\",index=False)"
   ]
  },
  {
   "cell_type": "code",
   "execution_count": 57,
   "metadata": {
    "collapsed": true
   },
   "outputs": [],
   "source": [
    "from sklearn.metrics import accuracy_score\n",
    "accuracy = accuracy_score(predicted_class_indices, true_class_indices)"
   ]
  },
  {
   "cell_type": "code",
   "execution_count": 58,
   "metadata": {},
   "outputs": [
    {
     "name": "stdout",
     "output_type": "stream",
     "text": [
      "正確率：55.0%\n"
     ]
    },
    {
     "data": {
      "text/html": [
       "<div>\n",
       "<style scoped>\n",
       "    .dataframe tbody tr th:only-of-type {\n",
       "        vertical-align: middle;\n",
       "    }\n",
       "\n",
       "    .dataframe tbody tr th {\n",
       "        vertical-align: top;\n",
       "    }\n",
       "\n",
       "    .dataframe thead th {\n",
       "        text-align: right;\n",
       "    }\n",
       "</style>\n",
       "<table border=\"1\" class=\"dataframe\">\n",
       "  <thead>\n",
       "    <tr style=\"text-align: right;\">\n",
       "      <th>pre</th>\n",
       "      <th>bored</th>\n",
       "      <th>confused</th>\n",
       "      <th>focus</th>\n",
       "      <th>frustrated</th>\n",
       "      <th>happy</th>\n",
       "      <th>neutral</th>\n",
       "      <th>shocked</th>\n",
       "    </tr>\n",
       "    <tr>\n",
       "      <th>true</th>\n",
       "      <th></th>\n",
       "      <th></th>\n",
       "      <th></th>\n",
       "      <th></th>\n",
       "      <th></th>\n",
       "      <th></th>\n",
       "      <th></th>\n",
       "    </tr>\n",
       "  </thead>\n",
       "  <tbody>\n",
       "    <tr>\n",
       "      <th>bored</th>\n",
       "      <td>7</td>\n",
       "      <td>4</td>\n",
       "      <td>0</td>\n",
       "      <td>0</td>\n",
       "      <td>0</td>\n",
       "      <td>0</td>\n",
       "      <td>3</td>\n",
       "    </tr>\n",
       "    <tr>\n",
       "      <th>confused</th>\n",
       "      <td>0</td>\n",
       "      <td>17</td>\n",
       "      <td>1</td>\n",
       "      <td>0</td>\n",
       "      <td>0</td>\n",
       "      <td>0</td>\n",
       "      <td>0</td>\n",
       "    </tr>\n",
       "    <tr>\n",
       "      <th>focus</th>\n",
       "      <td>0</td>\n",
       "      <td>7</td>\n",
       "      <td>10</td>\n",
       "      <td>0</td>\n",
       "      <td>0</td>\n",
       "      <td>0</td>\n",
       "      <td>1</td>\n",
       "    </tr>\n",
       "    <tr>\n",
       "      <th>frustrated</th>\n",
       "      <td>1</td>\n",
       "      <td>7</td>\n",
       "      <td>1</td>\n",
       "      <td>8</td>\n",
       "      <td>0</td>\n",
       "      <td>1</td>\n",
       "      <td>2</td>\n",
       "    </tr>\n",
       "    <tr>\n",
       "      <th>happy</th>\n",
       "      <td>3</td>\n",
       "      <td>9</td>\n",
       "      <td>0</td>\n",
       "      <td>0</td>\n",
       "      <td>13</td>\n",
       "      <td>0</td>\n",
       "      <td>2</td>\n",
       "    </tr>\n",
       "    <tr>\n",
       "      <th>neutral</th>\n",
       "      <td>2</td>\n",
       "      <td>6</td>\n",
       "      <td>2</td>\n",
       "      <td>0</td>\n",
       "      <td>1</td>\n",
       "      <td>10</td>\n",
       "      <td>1</td>\n",
       "    </tr>\n",
       "    <tr>\n",
       "      <th>shocked</th>\n",
       "      <td>5</td>\n",
       "      <td>3</td>\n",
       "      <td>0</td>\n",
       "      <td>0</td>\n",
       "      <td>1</td>\n",
       "      <td>0</td>\n",
       "      <td>12</td>\n",
       "    </tr>\n",
       "  </tbody>\n",
       "</table>\n",
       "</div>"
      ],
      "text/plain": [
       "pre         bored  confused  focus  frustrated  happy  neutral  shocked\n",
       "true                                                                   \n",
       "bored           7         4      0           0      0        0        3\n",
       "confused        0        17      1           0      0        0        0\n",
       "focus           0         7     10           0      0        0        1\n",
       "frustrated      1         7      1           8      0        1        2\n",
       "happy           3         9      0           0     13        0        2\n",
       "neutral         2         6      2           0      1       10        1\n",
       "shocked         5         3      0           0      1        0       12"
      ]
     },
     "execution_count": 58,
     "metadata": {},
     "output_type": "execute_result"
    }
   ],
   "source": [
    "df = pd.DataFrame({'true' : true_class,\n",
    "                  'pre' : predictions})\n",
    "print ('正確率：%.1f%%' % (accuracy*100))\n",
    "pd.crosstab(df.true, df.pre)"
   ]
  }
 ],
 "metadata": {
  "kernelspec": {
   "display_name": "Python [conda env:Ke]",
   "language": "python",
   "name": "conda-env-Ke-py"
  },
  "language_info": {
   "codemirror_mode": {
    "name": "ipython",
    "version": 3
   },
   "file_extension": ".py",
   "mimetype": "text/x-python",
   "name": "python",
   "nbconvert_exporter": "python",
   "pygments_lexer": "ipython3",
   "version": "3.6.8"
  }
 },
 "nbformat": 4,
 "nbformat_minor": 2
}
